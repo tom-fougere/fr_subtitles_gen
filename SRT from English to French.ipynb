{
 "cells": [
  {
   "cell_type": "code",
   "execution_count": null,
   "id": "613bd308",
   "metadata": {},
   "outputs": [],
   "source": [
    "from src.utils import get_dir_structure\n",
    "from app import translate_files"
   ]
  },
  {
   "cell_type": "markdown",
   "id": "d3978e8b",
   "metadata": {},
   "source": [
    "# User input"
   ]
  },
  {
   "cell_type": "code",
   "execution_count": null,
   "id": "9df2278a",
   "metadata": {},
   "outputs": [],
   "source": [
    "# Choice between file / folder / None (default folders)\n",
    "\n",
    "# File\n",
    "path = 'd01_data\\english\\Poker.Face.S01E09.WEBRip.NONHI.srt'\n",
    "\n",
    "# Folder\n",
    "path = 'd01_data\\english'\n",
    "\n",
    "# Default: None (=> 'd01_data\\english')\n",
    "path = None"
   ]
  },
  {
   "cell_type": "markdown",
   "id": "ad8a5cfa",
   "metadata": {},
   "source": [
    "# Initialization"
   ]
  },
  {
   "cell_type": "code",
   "execution_count": null,
   "id": "d6579d40",
   "metadata": {},
   "outputs": [],
   "source": [
    "dir_in, dir_out, files = get_dir_structure(path=path)"
   ]
  },
  {
   "cell_type": "markdown",
   "id": "ce8af059",
   "metadata": {},
   "source": [
    "# Translation"
   ]
  },
  {
   "cell_type": "code",
   "execution_count": null,
   "id": "f0a26229",
   "metadata": {},
   "outputs": [],
   "source": [
    "translate_files(files, dir_in, dir_out)"
   ]
  },
  {
   "cell_type": "markdown",
   "id": "dc7fb016",
   "metadata": {},
   "source": [
    "### End"
   ]
  }
 ],
 "metadata": {
  "kernelspec": {
   "display_name": "Python 3 (ipykernel)",
   "language": "python",
   "name": "python3"
  },
  "language_info": {
   "codemirror_mode": {
    "name": "ipython",
    "version": 3
   },
   "file_extension": ".py",
   "mimetype": "text/x-python",
   "name": "python",
   "nbconvert_exporter": "python",
   "pygments_lexer": "ipython3",
   "version": "3.11.3"
  }
 },
 "nbformat": 4,
 "nbformat_minor": 5
}
